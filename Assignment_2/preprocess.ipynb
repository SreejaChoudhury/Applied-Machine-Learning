{
 "cells": [
  {
   "cell_type": "markdown",
   "metadata": {
    "id": "iVGeXqpBD3zV"
   },
   "source": [
    "## Importing Libraries"
   ]
  },
  {
   "cell_type": "code",
   "execution_count": 1,
   "metadata": {
    "colab": {
     "base_uri": "https://localhost:8080/"
    },
    "id": "9AV2i3kwAnsM",
    "outputId": "8e13767f-aa3e-48c6-c822-f167e46f25be"
   },
   "outputs": [
    {
     "name": "stderr",
     "output_type": "stream",
     "text": [
      "[nltk_data] Downloading package punkt to\n",
      "[nltk_data]     C:\\Users\\j25sr\\AppData\\Roaming\\nltk_data...\n",
      "[nltk_data]   Package punkt is already up-to-date!\n",
      "[nltk_data] Downloading package punkt_tab to\n",
      "[nltk_data]     C:\\Users\\j25sr\\AppData\\Roaming\\nltk_data...\n",
      "[nltk_data]   Package punkt_tab is already up-to-date!\n",
      "[nltk_data] Downloading package wordnet to\n",
      "[nltk_data]     C:\\Users\\j25sr\\AppData\\Roaming\\nltk_data...\n",
      "[nltk_data]   Package wordnet is already up-to-date!\n"
     ]
    }
   ],
   "source": [
    "import csv\n",
    "from textblob import TextBlob\n",
    "import pandas\n",
    "import nltk\n",
    "nltk.download('punkt')\n",
    "nltk.download('punkt_tab')\n",
    "nltk.download('wordnet')\n",
    "\n",
    "from sklearn.model_selection import train_test_split\n",
    "\n",
    "import warnings\n"
   ]
  },
  {
   "cell_type": "markdown",
   "metadata": {
    "id": "G-pDl147D7GK"
   },
   "source": [
    "## Function to load the data"
   ]
  },
  {
   "cell_type": "code",
   "execution_count": 2,
   "metadata": {
    "colab": {
     "base_uri": "https://localhost:8080/",
     "height": 206
    },
    "id": "9Pkb7PoGTc1p",
    "outputId": "381b7d22-db23-428f-90e8-1bde16989350"
   },
   "outputs": [],
   "source": [
    "def load_data(path):\n",
    "  messages = pandas.read_csv(path, sep='\\t', quoting=csv.QUOTE_NONE,\n",
    "                           names=[\"label\", \"message\"])\n",
    "  return messages"
   ]
  },
  {
   "cell_type": "markdown",
   "metadata": {
    "id": "tXhPaTSHEIm3"
   },
   "source": [
    "# Function to split into lemmas"
   ]
  },
  {
   "cell_type": "code",
   "execution_count": 3,
   "metadata": {
    "colab": {
     "base_uri": "https://localhost:8080/",
     "height": 206
    },
    "id": "g1ajnwv8UD9d",
    "outputId": "ac79a3c7-afd1-4794-b559-90a870ef87d1"
   },
   "outputs": [],
   "source": [
    "def split_into_lemmas(message):\n",
    "    message = message.lower()\n",
    "    words = TextBlob(message).words\n",
    "    return [word.lemmatize() for word in words]"
   ]
  },
  {
   "cell_type": "markdown",
   "metadata": {
    "id": "OsOqUQDaEMDb"
   },
   "source": [
    "# Function to split data into train, test and validation"
   ]
  },
  {
   "cell_type": "code",
   "execution_count": 4,
   "metadata": {
    "id": "A-dskEN8rgyY"
   },
   "outputs": [],
   "source": [
    "def split_data(messages, random_state, ts = 0.2, v=0.2):\n",
    "  v_a = v /(1-ts)\n",
    "  msg_train, msg_test, label_train, label_test = train_test_split(messages['message'], messages['label'], test_size=ts)\n",
    "  msg_train, msg_val, label_train, label_val = train_test_split(\n",
    "    msg_train, label_train, test_size=v_a, random_state=random_state)\n",
    "  return msg_train, msg_val, msg_test, label_train, label_val, label_test\n"
   ]
  },
  {
   "cell_type": "markdown",
   "metadata": {},
   "source": [
    "# Function to store the splitted and preprocessed data "
   ]
  },
  {
   "cell_type": "code",
   "execution_count": 5,
   "metadata": {
    "id": "lOqzMKmOvj7J"
   },
   "outputs": [],
   "source": [
    "def to_csv(storagepath, msg_train, msg_val, msg_test, label_train, label_val, label_test):\n",
    "  msg_train.to_csv(storagepath + 'msg_train.csv', index=False)\n",
    "  msg_val.to_csv(storagepath + 'msg_val.csv', index=False)\n",
    "  msg_test.to_csv(storagepath + 'msg_test.csv', index=False)\n",
    "  label_train.to_csv(storagepath + 'label_train.csv', index=False)\n",
    "  label_val.to_csv(storagepath + 'label_val.csv', index=False)\n",
    "  label_test.to_csv(storagepath + 'label_test.csv', index=False)"
   ]
  },
  {
   "cell_type": "markdown",
   "metadata": {},
   "source": [
    "DVC"
   ]
  },
  {
   "cell_type": "code",
   "execution_count": 15,
   "metadata": {},
   "outputs": [
    {
     "name": "stdout",
     "output_type": "stream",
     "text": [
      "Initialized DVC repository.\n",
      "\n",
      "You can now commit the changes to git.\n",
      "\n",
      "+---------------------------------------------------------------------+\n",
      "|                                                                     |\n",
      "|        DVC has enabled anonymous aggregate usage analytics.         |\n",
      "|     Read the analytics documentation (and how to opt-out) here:     |\n",
      "|             <https://dvc.org/doc/user-guide/analytics>              |\n",
      "|                                                                     |\n",
      "+---------------------------------------------------------------------+\n",
      "\n",
      "What's next?\n",
      "------------\n",
      "- Check out the documentation: <https://dvc.org/doc>\n",
      "- Get help and share ideas: <https://dvc.org/chat>\n",
      "- Star us on GitHub: <https://github.com/iterative/dvc>\n"
     ]
    }
   ],
   "source": [
    "!dvc init"
   ]
  },
  {
   "cell_type": "code",
   "execution_count": 16,
   "metadata": {},
   "outputs": [
    {
     "name": "stderr",
     "output_type": "stream",
     "text": [
      "ERROR: failed to initiate DVC - '.dvc' exists. Use `-f` to force.\n"
     ]
    }
   ],
   "source": [
    "!dvc init --subdir"
   ]
  },
  {
   "cell_type": "code",
   "execution_count": 7,
   "metadata": {},
   "outputs": [
    {
     "name": "stderr",
     "output_type": "stream",
     "text": [
      "ERROR: configuration error - config file error: remote 'myremote' already exists. Use `-f|--force` to overwrite it.\n"
     ]
    }
   ],
   "source": [
    "!dvc remote add myremote gdrive://1p5WG4jOaQ2pC7OYCdbbM4FS5VkiyW9kU"
   ]
  },
  {
   "cell_type": "code",
   "execution_count": 8,
   "metadata": {},
   "outputs": [
    {
     "name": "stdout",
     "output_type": "stream",
     "text": [
      "\n",
      "To track the changes with git, run:\n",
      "\n",
      "\tgit add raw_data.csv.dvc\n",
      "\n",
      "To enable auto staging, run:\n",
      "\n",
      "\tdvc config core.autostage true\n"
     ]
    },
    {
     "name": "stderr",
     "output_type": "stream",
     "text": [
      "⠋ Checking graph\n",
      "\n"
     ]
    }
   ],
   "source": [
    "!dvc add raw_data.csv"
   ]
  },
  {
   "cell_type": "code",
   "execution_count": 9,
   "metadata": {},
   "outputs": [],
   "source": [
    "!git add raw_data.csv.dvc .gitignore"
   ]
  },
  {
   "cell_type": "code",
   "execution_count": 10,
   "metadata": {},
   "outputs": [],
   "source": [
    "!dvc remote default myremote"
   ]
  },
  {
   "cell_type": "code",
   "execution_count": 11,
   "metadata": {},
   "outputs": [],
   "source": [
    "!dvc remote modify myremote gdrive_use_service_account true\n",
    "!dvc remote modify myremote --local gdrive_service_account_json_file_path \"C:\\Users\\j25sr\\Downloads\\amlassignment-e6276934d046.json\""
   ]
  },
  {
   "cell_type": "code",
   "execution_count": 12,
   "metadata": {},
   "outputs": [
    {
     "name": "stdout",
     "output_type": "stream",
     "text": [
      "7 files pushed\n"
     ]
    }
   ],
   "source": [
    "!dvc push"
   ]
  },
  {
   "cell_type": "code",
   "execution_count": 13,
   "metadata": {},
   "outputs": [],
   "source": [
    "path = \"C:/Users/j25sr/OneDrive/Desktop/AML 1/sms+spam+collection/SMSSpamCollection\"\n",
    "\n",
    "messages = load_data(path)\n",
    "\n",
    "messages.message = messages.message.apply(split_into_lemmas)"
   ]
  },
  {
   "cell_type": "code",
   "execution_count": 14,
   "metadata": {},
   "outputs": [],
   "source": [
    "msg_train, msg_val, msg_test, label_train, label_val, label_test = split_data(messages, random_state=10)\n",
    "\n",
    "storage_path = 'C:/Users/j25sr/OneDrive/Desktop/Sem 4/AML/Applied-Machine-Learning/Assignment_2/'\n",
    "to_csv(storage_path, msg_train, msg_val, msg_test, label_train, label_val, label_test)"
   ]
  },
  {
   "cell_type": "code",
   "execution_count": 15,
   "metadata": {},
   "outputs": [
    {
     "name": "stdout",
     "output_type": "stream",
     "text": [
      "\n",
      "To track the changes with git, run:\n",
      "\n",
      "\tgit add label_val.csv.dvc label_test.csv.dvc msg_val.csv.dvc label_train.csv.dvc msg_train.csv.dvc msg_test.csv.dvc\n",
      "\n",
      "To enable auto staging, run:\n",
      "\n",
      "\tdvc config core.autostage true\n"
     ]
    },
    {
     "name": "stderr",
     "output_type": "stream",
     "text": [
      "⠋ Checking graph\n",
      "\n"
     ]
    }
   ],
   "source": [
    "!dvc add msg_train.csv msg_val.csv msg_test.csv label_train.csv label_val.csv label_test.csv"
   ]
  },
  {
   "cell_type": "code",
   "execution_count": 16,
   "metadata": {},
   "outputs": [],
   "source": [
    "!git add label_train.csv.dvc msg_val.csv.dvc msg_test.csv.dvc label_val.csv.dvc label_test.csv.dvc .gitignore msg_train.csv.dvc"
   ]
  },
  {
   "cell_type": "code",
   "execution_count": 17,
   "metadata": {},
   "outputs": [
    {
     "name": "stdout",
     "output_type": "stream",
     "text": [
      "[main d991611] Version 1 split\n",
      " 6 files changed, 11 insertions(+), 11 deletions(-)\n"
     ]
    }
   ],
   "source": [
    "!git commit -m \"Version 1 split\""
   ]
  },
  {
   "cell_type": "markdown",
   "metadata": {},
   "source": [
    "Version 2 split"
   ]
  },
  {
   "cell_type": "code",
   "execution_count": 18,
   "metadata": {},
   "outputs": [],
   "source": [
    "msg_train, msg_val, msg_test, label_train, label_val, label_test = split_data(messages, random_state= 50)\n",
    "storage_path = 'C:/Users/j25sr/OneDrive/Desktop/Sem 4/AML/Applied-Machine-Learning/Assignment_2/'\n",
    "to_csv(storage_path, msg_train, msg_val, msg_test, label_train, label_val, label_test)"
   ]
  },
  {
   "cell_type": "code",
   "execution_count": 19,
   "metadata": {},
   "outputs": [
    {
     "name": "stdout",
     "output_type": "stream",
     "text": [
      "\n",
      "To track the changes with git, run:\n",
      "\n",
      "\tgit add msg_train.csv.dvc msg_val.csv.dvc label_val.csv.dvc label_train.csv.dvc msg_test.csv.dvc label_test.csv.dvc\n",
      "\n",
      "To enable auto staging, run:\n",
      "\n",
      "\tdvc config core.autostage true\n"
     ]
    },
    {
     "name": "stderr",
     "output_type": "stream",
     "text": [
      "⠋ Checking graph\n",
      "\n"
     ]
    }
   ],
   "source": [
    "!dvc add msg_train.csv msg_val.csv msg_test.csv label_train.csv label_val.csv label_test.csv"
   ]
  },
  {
   "cell_type": "code",
   "execution_count": 20,
   "metadata": {},
   "outputs": [],
   "source": [
    "!git add label_test.csv.dvc label_train.csv.dvc msg_val.csv.dvc msg_test.csv.dvc label_val.csv.dvc msg_train.csv.dvc\n"
   ]
  },
  {
   "cell_type": "code",
   "execution_count": 21,
   "metadata": {},
   "outputs": [
    {
     "name": "stdout",
     "output_type": "stream",
     "text": [
      "[main ccffb23] Version 2 split\n",
      " 6 files changed, 12 insertions(+), 12 deletions(-)\n"
     ]
    }
   ],
   "source": [
    "!git commit -m \"Version 2 split\""
   ]
  },
  {
   "cell_type": "markdown",
   "metadata": {},
   "source": [
    "Accessing the splits"
   ]
  },
  {
   "cell_type": "code",
   "execution_count": 22,
   "metadata": {},
   "outputs": [
    {
     "name": "stdout",
     "output_type": "stream",
     "text": [
      "commit ccffb23940435375e3fc2de022d23502b30dc3d2\n",
      "Author: SreejaChoudhury <j25sreeja@gmail.com>\n",
      "Date:   Tue Mar 4 17:59:16 2025 +0530\n",
      "\n",
      "    Version 2 split\n",
      "\n",
      "commit d991611007543148b75cd927f905a9c9befa8363\n",
      "Author: SreejaChoudhury <j25sreeja@gmail.com>\n",
      "Date:   Tue Mar 4 17:59:12 2025 +0530\n",
      "\n",
      "    Version 1 split\n",
      "\n",
      "commit 71fb47bf333ba55beff759ddf6b7f9df941bc792\n",
      "Author: SreejaChoudhury <j25sreeja@gmail.com>\n",
      "Date:   Sun Mar 2 10:01:15 2025 +0530\n",
      "\n",
      "    Version 2 split\n",
      "\n",
      "commit 5229958d18cd469331b09c4339b1ab0531113ca5\n",
      "Author: SreejaChoudhury <j25sreeja@gmail.com>\n",
      "Date:   Sun Mar 2 09:49:20 2025 +0530\n",
      "\n",
      "    Version 1 split\n",
      "\n",
      "commit d4a19f4ab8ea45816abdfc5b68d33c77365e6235\n",
      "Author: SreejaChoudhury <j25sreeja@gmail.com>\n",
      "Date:   Thu Jan 30 22:08:13 2025 +0530\n",
      "\n",
      "    Added Assignment 1\n",
      "\n",
      "commit b59b619b3a9c725c5b9f13b6dc872e043e391203\n",
      "Author: SreejaChoudhury <j25sreeja@gmail.com>\n",
      "Date:   Thu Jan 30 22:06:40 2025 +0530\n",
      "\n",
      "    Delete\n",
      "\n",
      "commit d02717c4adc393aaf55c78d5bc27d3d811933af7\n",
      "Author: SreejaChoudhury <j25sreeja@gmail.com>\n",
      "Date:   Thu Jan 30 22:06:21 2025 +0530\n",
      "\n",
      "    Delete\n",
      "\n",
      "commit 1436588893104be867dbe9402fe083f7ef5ec814\n",
      "Author: SreejaChoudhury <j25sreeja@gmail.com>\n",
      "Date:   Thu Jan 30 19:01:34 2025 +0530\n",
      "\n",
      "    Uploading training file\n",
      "    \n",
      "    An ipynb file that contains functions to fit different ML models to the data for sms_classification\n",
      "\n",
      "commit dc7c673b8e182edf06feb6fed9d2f703cb7d6daf\n",
      "Author: SreejaChoudhury <j25sreeja@gmail.com>\n",
      "Date:   Thu Jan 30 19:00:01 2025 +0530\n",
      "\n",
      "    Uploading preprocess file\n",
      "    \n",
      "    An ipynb file that contains function to preprocess the sms_classification data\n"
     ]
    }
   ],
   "source": [
    "!git log"
   ]
  },
  {
   "cell_type": "code",
   "execution_count": 23,
   "metadata": {},
   "outputs": [
    {
     "data": {
      "text/plain": [
       "''"
      ]
     },
     "execution_count": 23,
     "metadata": {},
     "output_type": "execute_result"
    }
   ],
   "source": [
    ","
   ]
  },
  {
   "cell_type": "code",
   "execution_count": 44,
   "metadata": {},
   "outputs": [
    {
     "name": "stdout",
     "output_type": "stream",
     "text": [
      "M\tAssignment_2/.dvc/config\n"
     ]
    },
    {
     "name": "stderr",
     "output_type": "stream",
     "text": [
      "Note: switching to 'd991611007543148b75cd927f905a9c9befa8363'.\n",
      "\n",
      "You are in 'detached HEAD' state. You can look around, make experimental\n",
      "changes and commit them, and you can discard any commits you make in this\n",
      "state without impacting any branches by switching back to a branch.\n",
      "\n",
      "If you want to create a new branch to retain commits you create, you may\n",
      "do so (now or later) by using -c with the switch command. Example:\n",
      "\n",
      "  git switch -c <new-branch-name>\n",
      "\n",
      "Or undo this operation with:\n",
      "\n",
      "  git switch -\n",
      "\n",
      "Turn off this advice by setting config variable advice.detachedHead to false\n",
      "\n",
      "HEAD is now at d991611 Version 1 split\n"
     ]
    }
   ],
   "source": [
    "!git checkout d991611007543148b75cd927f905a9c9befa8363"
   ]
  },
  {
   "cell_type": "code",
   "execution_count": 45,
   "metadata": {},
   "outputs": [
    {
     "name": "stdout",
     "output_type": "stream",
     "text": [
      "M       label_train.csv\n",
      "M       msg_val.csv\n",
      "M       msg_train.csv\n",
      "M       msg_test.csv\n",
      "M       label_test.csv\n",
      "M       label_val.csv\n"
     ]
    }
   ],
   "source": [
    "!dvc checkout"
   ]
  },
  {
   "cell_type": "code",
   "execution_count": 46,
   "metadata": {},
   "outputs": [],
   "source": [
    "import pandas as pd\n",
    "\n",
    "train = pd.read_csv('label_train.csv')\n",
    "test = pd.read_csv('label_test.csv')\n",
    "val = pd.read_csv('label_val.csv')"
   ]
  },
  {
   "cell_type": "code",
   "execution_count": 47,
   "metadata": {},
   "outputs": [
    {
     "name": "stdout",
     "output_type": "stream",
     "text": [
      "label        ham  spam\n",
      "Dataset               \n",
      "Test         976   139\n",
      "Train       2895   449\n",
      "Validation   956   159\n"
     ]
    }
   ],
   "source": [
    "import pandas as pd\n",
    "\n",
    "# Add Dataset column\n",
    "train['Dataset'] = 'Train'\n",
    "test['Dataset'] = 'Test'\n",
    "val['Dataset'] = 'Validation'\n",
    "\n",
    "# Concatenate all datasets\n",
    "df = pd.concat([train, test, val])\n",
    "\n",
    "# Create a table of counts\n",
    "distribution_table = pd.crosstab(df['Dataset'], df['label'])\n",
    "\n",
    "# Display the table\n",
    "print(distribution_table)\n"
   ]
  },
  {
   "cell_type": "markdown",
   "metadata": {},
   "source": [
    "Version 2"
   ]
  },
  {
   "cell_type": "code",
   "execution_count": 48,
   "metadata": {},
   "outputs": [
    {
     "name": "stdout",
     "output_type": "stream",
     "text": [
      "M\tAssignment_2/.dvc/config\n"
     ]
    },
    {
     "name": "stderr",
     "output_type": "stream",
     "text": [
      "Previous HEAD position was d991611 Version 1 split\n",
      "HEAD is now at ccffb23 Version 2 split\n"
     ]
    }
   ],
   "source": [
    "!git checkout ccffb23940435375e3fc2de022d23502b30dc3d2"
   ]
  },
  {
   "cell_type": "code",
   "execution_count": 49,
   "metadata": {},
   "outputs": [
    {
     "name": "stdout",
     "output_type": "stream",
     "text": [
      "M       msg_train.csv\n",
      "M       msg_val.csv\n",
      "M       label_test.csv\n",
      "M       label_train.csv\n",
      "M       msg_test.csv\n",
      "M       label_val.csv\n"
     ]
    }
   ],
   "source": [
    "!dvc checkout"
   ]
  },
  {
   "cell_type": "code",
   "execution_count": 50,
   "metadata": {},
   "outputs": [],
   "source": [
    "\n",
    "train = pd.read_csv('label_train.csv')\n",
    "test = pd.read_csv('label_test.csv')\n",
    "val = pd.read_csv('label_val.csv')"
   ]
  },
  {
   "cell_type": "code",
   "execution_count": 51,
   "metadata": {},
   "outputs": [
    {
     "name": "stdout",
     "output_type": "stream",
     "text": [
      "label        ham  spam\n",
      "Dataset               \n",
      "Test         985   130\n",
      "Train       2872   472\n",
      "Validation   970   145\n"
     ]
    }
   ],
   "source": [
    "import pandas as pd\n",
    "\n",
    "# Add Dataset column\n",
    "train['Dataset'] = 'Train'\n",
    "test['Dataset'] = 'Test'\n",
    "val['Dataset'] = 'Validation'\n",
    "\n",
    "# Concatenate all datasets\n",
    "df = pd.concat([train, test, val])\n",
    "\n",
    "# Create a table of counts\n",
    "distribution_table = pd.crosstab(df['Dataset'], df['label'])\n",
    "\n",
    "# Display the table\n",
    "print(distribution_table)\n"
   ]
  },
  {
   "cell_type": "code",
   "execution_count": 52,
   "metadata": {},
   "outputs": [
    {
     "name": "stdout",
     "output_type": "stream",
     "text": [
      "M\tAssignment_2/.dvc/config"
     ]
    },
    {
     "name": "stderr",
     "output_type": "stream",
     "text": [
      "Switched to branch 'main'\n"
     ]
    },
    {
     "name": "stdout",
     "output_type": "stream",
     "text": [
      "\n",
      "Your branch is ahead of 'origin/main' by 4 commits.\n",
      "  (use \"git push\" to publish your local commits)\n"
     ]
    }
   ],
   "source": [
    "!git checkout main"
   ]
  },
  {
   "cell_type": "code",
   "execution_count": 53,
   "metadata": {},
   "outputs": [
    {
     "name": "stdout",
     "output_type": "stream",
     "text": [
      "Everything is up to date.\n"
     ]
    }
   ],
   "source": [
    "!dvc push"
   ]
  },
  {
   "cell_type": "code",
   "execution_count": null,
   "metadata": {},
   "outputs": [],
   "source": []
  }
 ],
 "metadata": {
  "colab": {
   "provenance": []
  },
  "kernelspec": {
   "display_name": "Python 3",
   "name": "python3"
  },
  "language_info": {
   "codemirror_mode": {
    "name": "ipython",
    "version": 3
   },
   "file_extension": ".py",
   "mimetype": "text/x-python",
   "name": "python",
   "nbconvert_exporter": "python",
   "pygments_lexer": "ipython3",
   "version": "3.11.9"
  }
 },
 "nbformat": 4,
 "nbformat_minor": 0
}
